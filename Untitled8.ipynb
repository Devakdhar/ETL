{
 "cells": [
  {
   "cell_type": "code",
   "execution_count": null,
   "id": "d2b89029-d367-4045-9107-008b5c6456c1",
   "metadata": {},
   "outputs": [],
   "source": [
    "print(\"Hello, this is my first programme\")"
   ]
  },
  {
   "cell_type": "code",
   "execution_count": 30,
   "id": "ccfdb1fc-a2e5-4ba9-af7a-4f417f4bf3cb",
   "metadata": {},
   "outputs": [
    {
     "name": "stdout",
     "output_type": "stream",
     "text": [
      "name is 125% hi name\n"
     ]
    }
   ],
   "source": [
    "name=\"Devak\"\n",
    "\n",
    "name=\"Rohit\"\n",
    "\n",
    "name= \"125%\"\n",
    "namestudent=\"name\"\n",
    "\n",
    "print(\"name is\", name, \"hi\",namestudent)"
   ]
  },
  {
   "cell_type": "code",
   "execution_count": null,
   "id": "9770204b-1fea-436e-b569-595dd312b143",
   "metadata": {},
   "outputs": [],
   "source": [
    "costofbike= 20\n",
    "costofcar= 40\n",
    "numberofbike=int(input(\"enter the number of bike\"))\n",
    "numberofcar= int(input(\"enter the number of car\"))\n",
    "result=costofbike*numberofbike+costofcar*numberofcar\n",
    "print(result)"
   ]
  },
  {
   "cell_type": "code",
   "execution_count": null,
   "id": "7a536a3a-0fd6-4dfa-9427-772efa8fa66e",
   "metadata": {},
   "outputs": [],
   "source": [
    "student1=int(input(\"feedback the number of student1\"))\n",
    "student2=int(input(\"feedback the number of student2\"))\n",
    "student3=int(input(\"feedback the number of student3\"))\n",
    "student4=int(input(\"feedback the number of student4\"))\n",
    "student5=int(input(\"feedback the number of student5\"))\n",
    "Averagefeedback=(student1+student2+student3+student4+student5)/5\n",
    "\n",
    "if (Averagefeedback>4):\n",
    "     Print(\"its a good\")\n",
    "elif (Averagefeedback>3):\n",
    "    print(\"its a Average\")\n",
    "elif (Averagefeedback>2):\n",
    "    print(\"its a bad below\")\n",
    "else:\n",
    "    print(\"change the trainer\")"
   ]
  },
  {
   "cell_type": "code",
   "execution_count": null,
   "id": "4a28f045-a681-4f70-b872-35c8d675b7fe",
   "metadata": {},
   "outputs": [],
   "source": []
  },
  {
   "cell_type": "code",
   "execution_count": null,
   "id": "6459ab56-8390-4f51-8ece-cb5414d459a5",
   "metadata": {},
   "outputs": [],
   "source": []
  }
 ],
 "metadata": {
  "kernelspec": {
   "display_name": "Python 3 (ipykernel)",
   "language": "python",
   "name": "python3"
  },
  "language_info": {
   "codemirror_mode": {
    "name": "ipython",
    "version": 3
   },
   "file_extension": ".py",
   "mimetype": "text/x-python",
   "name": "python",
   "nbconvert_exporter": "python",
   "pygments_lexer": "ipython3",
   "version": "3.12.4"
  }
 },
 "nbformat": 4,
 "nbformat_minor": 5
}
